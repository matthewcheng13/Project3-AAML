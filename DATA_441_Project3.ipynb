{
  "nbformat": 4,
  "nbformat_minor": 0,
  "metadata": {
    "colab": {
      "provenance": []
    },
    "kernelspec": {
      "name": "python3",
      "display_name": "Python 3"
    },
    "language_info": {
      "name": "python"
    }
  },
  "cells": [
    {
      "cell_type": "code",
      "source": [
        "# computational libraries\n",
        "import numpy as np\n",
        "import pandas as pd\n",
        "from sklearn.linear_model import LinearRegression, Ridge\n",
        "from sklearn.preprocessing import StandardScaler, QuantileTransformer, MinMaxScaler, PolynomialFeatures\n",
        "from sklearn.decomposition import PCA\n",
        "from scipy.spatial import Delaunay\n",
        "from sklearn.ensemble import RandomForestRegressor\n",
        "from sklearn.pipeline import Pipeline\n",
        "import scipy.stats as stats \n",
        "from sklearn.model_selection import train_test_split as tts, KFold, GridSearchCV\n",
        "from sklearn.metrics import mean_squared_error as mse\n",
        "from scipy.interpolate import interp1d, RegularGridInterpolator, griddata, LinearNDInterpolator, NearestNDInterpolator\n",
        "from math import ceil\n",
        "from scipy import linalg\n",
        "# the following line(s) are necessary if you want to make SKlearn compliant functions\n",
        "from sklearn.base import BaseEstimator, RegressorMixin\n",
        "from sklearn.utils.validation import check_X_y, check_array, check_is_fitted"
      ],
      "metadata": {
        "id": "n8eyZbAbrSKV"
      },
      "execution_count": 1,
      "outputs": []
    },
    {
      "cell_type": "code",
      "source": [
        "lm = LinearRegression()\n",
        "scale = StandardScaler()\n",
        "qscale = QuantileTransformer()"
      ],
      "metadata": {
        "id": "oRqUOoYerYJ1"
      },
      "execution_count": 2,
      "outputs": []
    },
    {
      "cell_type": "markdown",
      "source": [
        "# Project 3: Gradient Boost\n",
        "## Implementing the Gradient Boosting Algorithm\n",
        "First, we need our kernels, utility functions, and models that we have been using:\n",
        "\n",
        "Kernels"
      ],
      "metadata": {
        "id": "qneW4iNvpHZk"
      }
    },
    {
      "cell_type": "code",
      "execution_count": 3,
      "metadata": {
        "id": "izGiGrS0h2JK"
      },
      "outputs": [],
      "source": [
        "# these kernels have been modified so that they can also handle weights matrices\n",
        "# by default they do not handle weights matrices\n",
        "\n",
        "# Gaussian Kernel\n",
        "def Gaussian(x, wm = False):\n",
        "  if not wm:\n",
        "    if len(x.shape)==1:\n",
        "      d = np.abs(x)\n",
        "    else:\n",
        "      d = np.sqrt(np.sum(x**2,axis=1))\n",
        "    return np.where(d>4,0,1/(np.sqrt(2*np.pi))*np.exp(-1/2*d**2))\n",
        "  else:\n",
        "    return np.exp(-1/2*x**2)\n",
        "\n",
        "# Tricubic Kernel\n",
        "def Tricubic(x, wm = False):\n",
        "  if not wm:\n",
        "    if len(x.shape) == 1:\n",
        "      x = x.reshape(-1,1)\n",
        "    d = np.sqrt(np.sum(x**2,axis=1))\n",
        "    return np.where(d>1,0,70/81*(1-d**3)**3)\n",
        "  else:\n",
        "    return (1 - x ** 3) ** 3\n",
        "\n",
        "# Quartic Kernel\n",
        "def Quartic(x, wm = False):\n",
        "  if not wm:\n",
        "    if len(x.shape) == 1:\n",
        "      x = x.reshape(-1,1)\n",
        "    d = np.sqrt(np.sum(x**2,axis=1))\n",
        "    return np.where(d>1,0,15/16*(1-d**2)**2)\n",
        "  else:\n",
        "    return (1 - x ** 2) ** 2\n",
        "\n",
        "# Epanechnikov Kernel\n",
        "def Epanechnikov(x, wm = False):\n",
        "  if not wm:\n",
        "    if len(x.shape) == 1:\n",
        "      x = x.reshape(-1,1)\n",
        "    d = np.sqrt(np.sum(x**2,axis=1))\n",
        "    return np.where(d>1,0,3/4*(1-d**2)) \n",
        "  else:\n",
        "    return (1 - x ** 2)"
      ]
    },
    {
      "cell_type": "markdown",
      "source": [
        "Utility Functions"
      ],
      "metadata": {
        "id": "b3ECQSObmK2s"
      }
    },
    {
      "cell_type": "code",
      "source": [
        "def kernel_function(xi,x0,kern, tau): \n",
        "  return kern((xi - x0)/(2*tau))\n",
        "\n",
        "def weights_matrix(x,x_new,kern,tau):\n",
        "  if np.isscalar(x_new):\n",
        "    return kernel_function(x,x_new,kern,tau)\n",
        "  else:\n",
        "    n = len(x_new)\n",
        "    return np.array([kernel_function(x,x_new[i],kern,tau) for i in range(n)])\n",
        "\n",
        "def dist(u,v):\n",
        "  if len(v.shape)==1:\n",
        "    v = v.reshape(1,-1)\n",
        "  d = np.array([np.sqrt(np.sum((u-v[i])**2,axis=1)) for i in range(len(v))])\n",
        "  return d"
      ],
      "metadata": {
        "id": "MiEW9yphlDDc"
      },
      "execution_count": 4,
      "outputs": []
    },
    {
      "cell_type": "markdown",
      "source": [
        "Models"
      ],
      "metadata": {
        "id": "ZwF_yJewmP2o"
      }
    },
    {
      "cell_type": "code",
      "source": [
        "class Lowess:\n",
        "  def __init__(self, kernel = Tricubic, tau=0.05):\n",
        "    self.kernel = kernel\n",
        "    self.tau = tau\n",
        "  \n",
        "  def fit(self, x, y):\n",
        "    kernel = self.kernel\n",
        "    tau = self.tau\n",
        "    self.xtrain_ = x\n",
        "    self.yhat_ = y\n",
        "\n",
        "  def predict(self, x_new):\n",
        "    check_is_fitted(self)\n",
        "    x = self.xtrain_\n",
        "    y = self.yhat_\n",
        "\n",
        "    w = weights_matrix(x,x_new,self.kernel,self.tau)\n",
        "\n",
        "    if np.isscalar(x_new):\n",
        "      lm.fit(np.diag(w).dot(x.reshape(-1,1)),np.diag(w).dot(y.reshape(-1,1)))\n",
        "      yest = lm.predict([[x_new]])[0][0]\n",
        "    elif len(x.shape)==1:\n",
        "      n = len(x_new)\n",
        "      yest_test = np.zeros(n)\n",
        "      #Looping through all x-points\n",
        "      for i in range(n):\n",
        "        lm.fit(np.diag(w[i,:]).dot(x.reshape(-1,1)),np.diag(w[i,:]).dot(y.reshape(-1,1)))\n",
        "        yest_test[i] = lm.predict(x_new[i].reshape(-1,1))\n",
        "    else:\n",
        "      n = len(x_new)\n",
        "      yest_test = np.zeros(n)\n",
        "      #Looping through all x-points\n",
        "      for i in range(n):\n",
        "        lm.fit(np.diag(w[i,:]).dot(x),np.diag(w[i,:]).dot(y.reshape(-1,1)))\n",
        "        yest_test[i] = lm.predict(x_new[i].reshape(1,-1))\n",
        "    return yest_test\n",
        "\n",
        "  def get_params(self, deep=True):\n",
        "    return {\"kernel\":self.kernel, \"tau\":self.tau}\n",
        "\n",
        "  def set_params(self, **parameters):\n",
        "    for parameter, value in parameters.items():\n",
        "        setattr(self, parameter, value)\n",
        "    return self\n",
        "\n",
        "def lowess_ag_md(x, y, xnew, f=2/3, iter=3, intercept=True, kernel=Tricubic):\n",
        "\n",
        "  n = len(x)\n",
        "\n",
        "  # calculating the amount of neighbors we are considering\n",
        "  r = int(ceil(f * n))\n",
        "\n",
        "  # one dimensional y and x become column vectors here\n",
        "  if len(y.shape)==1:\n",
        "    y = y.reshape(-1,1)\n",
        "\n",
        "  if len(x.shape)==1:\n",
        "    x = x.reshape(-1,1)\n",
        "\n",
        "  # we need to add a column of ones to account for the intercept\n",
        "  # this is by default, however the user has the option to not \n",
        "  # include this step\n",
        "  if intercept:\n",
        "    x1 = np.column_stack([np.ones((len(x),1)),x])\n",
        "  else:\n",
        "    x1 = x\n",
        "\n",
        "  # calculating the Euclidean distance for each observation\n",
        "  h = [np.sort(np.sqrt(np.sum((x-x[i])**2,axis=1)))[r] for i in range(n)]\n",
        "\n",
        "  # we now clip any distance that falls outside of our bounds\n",
        "  w = np.clip(dist(x,x) / h, 0.0, 1.0)\n",
        "\n",
        "  # we apply our kernel to get the weights, giving closer neighbors more weight\n",
        "  # by default, we use tricubic, however, the user may specify an alternate\n",
        "  w = kernel(w, True)\n",
        "\n",
        "  # initialize our y estimate and delta\n",
        "  yest = np.zeros(n)\n",
        "  delta = np.ones(n)\n",
        "\n",
        "  for iteration in range(iter):\n",
        "    for i in range(n):\n",
        "      # convert our weights to a diagonal matrix\n",
        "      W = np.diag(delta).dot(np.diag(w[i,:]))\n",
        "\n",
        "      # this is our ordinate values\n",
        "      b = np.transpose(x1).dot(W).dot(y)\n",
        "\n",
        "      # this is our coefficient matrix\n",
        "      A = np.transpose(x1).dot(W).dot(x1)\n",
        "\n",
        "      # L2 regularization, this ensures that our matrix equation can always be solved\n",
        "      A = A + 0.0001*np.eye(x1.shape[1])\n",
        "\n",
        "      # finally, we solve our matrix equation\n",
        "      beta = linalg.solve(A, b)\n",
        "\n",
        "      # create the y estimate\n",
        "      yest[i] = np.dot(x1[i],beta)\n",
        "\n",
        "    # now we get the residuals and calculate our cutoff for outliers\n",
        "    residuals = y - yest\n",
        "\n",
        "    # quartiles and IQR\n",
        "    Q1 = np.percentile(residuals,25)\n",
        "    Q3 = np.percentile(residuals,75)\n",
        "    IQR = Q3-Q1\n",
        "\n",
        "    # upper and lower bound for outliers\n",
        "    upper = Q3 + (1.5 * IQR)\n",
        "    lower = Q1 = (1.5 * IQR)\n",
        "\n",
        "    # these values help us standardize the data to have the lower bound be -1\n",
        "    # and the upper bound be 1\n",
        "    mid = (upper + lower) / 2\n",
        "    div = upper-mid\n",
        "\n",
        "    # finally, we clip all outliers\n",
        "    delta = np.clip((residuals - mid)/div, -1, 1)\n",
        "    delta = (1 - delta ** 2) ** 2\n",
        "\n",
        "  # this is how we handle training and testing data (x, xnew)\n",
        "  if x.shape[1]==1:\n",
        "    # this is a one dimensional interpolator\n",
        "    f = interp1d(x.flatten(),yest,fill_value='extrapolate')\n",
        "    output = f(xnew)\n",
        "  else:\n",
        "    # otherwise, we need to use principal component analysis on our higher dimensional data\n",
        "    # this is because there may be relationships between some of the features\n",
        "    output = np.zeros(len(xnew))\n",
        "    for i in range(len(xnew)):\n",
        "      ind = np.argsort(np.sqrt(np.sum((x-xnew[i])**2,axis=1)))[:r]\n",
        "      pca = PCA(n_components=3)\n",
        "      x_pca = pca.fit_transform(x[ind])\n",
        "      tri = Delaunay(x_pca,qhull_options='QJ')\n",
        "      f = LinearNDInterpolator(tri,y[ind])\n",
        "      output[i] = f(pca.transform(xnew[i].reshape(1,-1)))\n",
        "\n",
        "  # the output may have NaN's where the data points from xnew are outside the convex hull of X\n",
        "  # here, we will resolve that with nearest neighbor interpolation in higher dimensions\n",
        "  if sum(np.isnan(output))>0:\n",
        "    g = NearestNDInterpolator(x,y.ravel()) \n",
        "    output[np.isnan(output)] = g(xnew[np.isnan(output)])\n",
        "  return output\n",
        "\n",
        "class Lowess_AG_MD:\n",
        "  def __init__(self, f = 1/10, iter = 3,intercept=True, kernel=Tricubic):\n",
        "    self.f = f\n",
        "    self.iter = iter\n",
        "    self.intercept = intercept\n",
        "    self.kernel = kernel\n",
        "  \n",
        "  def fit(self, x, y):\n",
        "    f = self.f\n",
        "    iter = self.iter\n",
        "    self.xtrain_ = x\n",
        "    self.yhat_ = y\n",
        "\n",
        "  def predict(self, x_new):\n",
        "    check_is_fitted(self)\n",
        "    x = self.xtrain_\n",
        "    y = self.yhat_\n",
        "    f = self.f\n",
        "    iter = self.iter\n",
        "    intercept = self.intercept\n",
        "    kernel = self.kernel\n",
        "    return lowess_ag_md(x, y, x_new, f, iter, intercept, kernel)\n",
        "\n",
        "  def get_params(self, deep=True):\n",
        "    return {\"f\": self.f, \"iter\": self.iter,\"intercept\":self.intercept,\"kernel\":self.kernel}\n",
        "\n",
        "  def set_params(self, **parameters):\n",
        "    for parameter, value in parameters.items():\n",
        "        setattr(self, parameter, value)\n",
        "    return self"
      ],
      "metadata": {
        "id": "k6IZVfZnlJUx"
      },
      "execution_count": 5,
      "outputs": []
    },
    {
      "cell_type": "markdown",
      "source": [
        "Now that we have our kernels, distance function, and SciKit-Learn Compliant Multidimensional Lowess Model, we are ready to implement our Gradient Boosting Algorithm."
      ],
      "metadata": {
        "id": "znJ8soEmsQdu"
      }
    },
    {
      "cell_type": "code",
      "source": [
        "def boosted_lwr(x, y, xnew, model1=Lowess_AG_MD, model2=Lowess_AG_MD, **kwargs):\n",
        "  model1 = model1(**kwargs)\n",
        "  model1.fit(x,y)\n",
        "  residuals1 = y - model1.predict(x)\n",
        "  model2 = model2(**kwargs)\n",
        "  model2.fit(x,residuals1)\n",
        "  output = model1.predict(xnew) + model2.predict(xnew)\n",
        "  return output "
      ],
      "metadata": {
        "id": "vX2BOlMasPxb"
      },
      "execution_count": 6,
      "outputs": []
    },
    {
      "cell_type": "markdown",
      "source": [
        "## Testing Regressor Across Different Datasets and Kernels\n"
      ],
      "metadata": {
        "id": "ph6NTO5ApUq_"
      }
    },
    {
      "cell_type": "code",
      "source": [
        "from google.colab import drive\n",
        "drive.mount('/content/drive')"
      ],
      "metadata": {
        "colab": {
          "base_uri": "https://localhost:8080/"
        },
        "id": "89L53uaptNcm",
        "outputId": "6408c499-5318-49ce-c2b1-4b2ab3c52a5b"
      },
      "execution_count": 7,
      "outputs": [
        {
          "output_type": "stream",
          "name": "stdout",
          "text": [
            "Mounted at /content/drive\n"
          ]
        }
      ]
    },
    {
      "cell_type": "markdown",
      "source": [
        "### Cars Dataset"
      ],
      "metadata": {
        "id": "OXXshGtvtPkr"
      }
    },
    {
      "cell_type": "code",
      "source": [
        "data = pd.read_csv('drive/MyDrive/Colab Notebooks/data/cars.csv')\n",
        "data.head(5)"
      ],
      "metadata": {
        "id": "A2MNvLslpcip",
        "colab": {
          "base_uri": "https://localhost:8080/",
          "height": 206
        },
        "outputId": "c2ed22ff-8cc6-49d3-d58c-d873c2e5ee9c"
      },
      "execution_count": 8,
      "outputs": [
        {
          "output_type": "execute_result",
          "data": {
            "text/plain": [
              "    MPG  CYL    ENG   WGT\n",
              "0  18.0    8  307.0  3504\n",
              "1  15.0    8  350.0  3693\n",
              "2  18.0    8  318.0  3436\n",
              "3  16.0    8  304.0  3433\n",
              "4  17.0    8  302.0  3449"
            ],
            "text/html": [
              "\n",
              "  <div id=\"df-c0ce0a99-f5ce-48f8-923d-39ccb69ca987\">\n",
              "    <div class=\"colab-df-container\">\n",
              "      <div>\n",
              "<style scoped>\n",
              "    .dataframe tbody tr th:only-of-type {\n",
              "        vertical-align: middle;\n",
              "    }\n",
              "\n",
              "    .dataframe tbody tr th {\n",
              "        vertical-align: top;\n",
              "    }\n",
              "\n",
              "    .dataframe thead th {\n",
              "        text-align: right;\n",
              "    }\n",
              "</style>\n",
              "<table border=\"1\" class=\"dataframe\">\n",
              "  <thead>\n",
              "    <tr style=\"text-align: right;\">\n",
              "      <th></th>\n",
              "      <th>MPG</th>\n",
              "      <th>CYL</th>\n",
              "      <th>ENG</th>\n",
              "      <th>WGT</th>\n",
              "    </tr>\n",
              "  </thead>\n",
              "  <tbody>\n",
              "    <tr>\n",
              "      <th>0</th>\n",
              "      <td>18.0</td>\n",
              "      <td>8</td>\n",
              "      <td>307.0</td>\n",
              "      <td>3504</td>\n",
              "    </tr>\n",
              "    <tr>\n",
              "      <th>1</th>\n",
              "      <td>15.0</td>\n",
              "      <td>8</td>\n",
              "      <td>350.0</td>\n",
              "      <td>3693</td>\n",
              "    </tr>\n",
              "    <tr>\n",
              "      <th>2</th>\n",
              "      <td>18.0</td>\n",
              "      <td>8</td>\n",
              "      <td>318.0</td>\n",
              "      <td>3436</td>\n",
              "    </tr>\n",
              "    <tr>\n",
              "      <th>3</th>\n",
              "      <td>16.0</td>\n",
              "      <td>8</td>\n",
              "      <td>304.0</td>\n",
              "      <td>3433</td>\n",
              "    </tr>\n",
              "    <tr>\n",
              "      <th>4</th>\n",
              "      <td>17.0</td>\n",
              "      <td>8</td>\n",
              "      <td>302.0</td>\n",
              "      <td>3449</td>\n",
              "    </tr>\n",
              "  </tbody>\n",
              "</table>\n",
              "</div>\n",
              "      <button class=\"colab-df-convert\" onclick=\"convertToInteractive('df-c0ce0a99-f5ce-48f8-923d-39ccb69ca987')\"\n",
              "              title=\"Convert this dataframe to an interactive table.\"\n",
              "              style=\"display:none;\">\n",
              "        \n",
              "  <svg xmlns=\"http://www.w3.org/2000/svg\" height=\"24px\"viewBox=\"0 0 24 24\"\n",
              "       width=\"24px\">\n",
              "    <path d=\"M0 0h24v24H0V0z\" fill=\"none\"/>\n",
              "    <path d=\"M18.56 5.44l.94 2.06.94-2.06 2.06-.94-2.06-.94-.94-2.06-.94 2.06-2.06.94zm-11 1L8.5 8.5l.94-2.06 2.06-.94-2.06-.94L8.5 2.5l-.94 2.06-2.06.94zm10 10l.94 2.06.94-2.06 2.06-.94-2.06-.94-.94-2.06-.94 2.06-2.06.94z\"/><path d=\"M17.41 7.96l-1.37-1.37c-.4-.4-.92-.59-1.43-.59-.52 0-1.04.2-1.43.59L10.3 9.45l-7.72 7.72c-.78.78-.78 2.05 0 2.83L4 21.41c.39.39.9.59 1.41.59.51 0 1.02-.2 1.41-.59l7.78-7.78 2.81-2.81c.8-.78.8-2.07 0-2.86zM5.41 20L4 18.59l7.72-7.72 1.47 1.35L5.41 20z\"/>\n",
              "  </svg>\n",
              "      </button>\n",
              "      \n",
              "  <style>\n",
              "    .colab-df-container {\n",
              "      display:flex;\n",
              "      flex-wrap:wrap;\n",
              "      gap: 12px;\n",
              "    }\n",
              "\n",
              "    .colab-df-convert {\n",
              "      background-color: #E8F0FE;\n",
              "      border: none;\n",
              "      border-radius: 50%;\n",
              "      cursor: pointer;\n",
              "      display: none;\n",
              "      fill: #1967D2;\n",
              "      height: 32px;\n",
              "      padding: 0 0 0 0;\n",
              "      width: 32px;\n",
              "    }\n",
              "\n",
              "    .colab-df-convert:hover {\n",
              "      background-color: #E2EBFA;\n",
              "      box-shadow: 0px 1px 2px rgba(60, 64, 67, 0.3), 0px 1px 3px 1px rgba(60, 64, 67, 0.15);\n",
              "      fill: #174EA6;\n",
              "    }\n",
              "\n",
              "    [theme=dark] .colab-df-convert {\n",
              "      background-color: #3B4455;\n",
              "      fill: #D2E3FC;\n",
              "    }\n",
              "\n",
              "    [theme=dark] .colab-df-convert:hover {\n",
              "      background-color: #434B5C;\n",
              "      box-shadow: 0px 1px 3px 1px rgba(0, 0, 0, 0.15);\n",
              "      filter: drop-shadow(0px 1px 2px rgba(0, 0, 0, 0.3));\n",
              "      fill: #FFFFFF;\n",
              "    }\n",
              "  </style>\n",
              "\n",
              "      <script>\n",
              "        const buttonEl =\n",
              "          document.querySelector('#df-c0ce0a99-f5ce-48f8-923d-39ccb69ca987 button.colab-df-convert');\n",
              "        buttonEl.style.display =\n",
              "          google.colab.kernel.accessAllowed ? 'block' : 'none';\n",
              "\n",
              "        async function convertToInteractive(key) {\n",
              "          const element = document.querySelector('#df-c0ce0a99-f5ce-48f8-923d-39ccb69ca987');\n",
              "          const dataTable =\n",
              "            await google.colab.kernel.invokeFunction('convertToInteractive',\n",
              "                                                     [key], {});\n",
              "          if (!dataTable) return;\n",
              "\n",
              "          const docLinkHtml = 'Like what you see? Visit the ' +\n",
              "            '<a target=\"_blank\" href=https://colab.research.google.com/notebooks/data_table.ipynb>data table notebook</a>'\n",
              "            + ' to learn more about interactive tables.';\n",
              "          element.innerHTML = '';\n",
              "          dataTable['output_type'] = 'display_data';\n",
              "          await google.colab.output.renderOutput(dataTable, element);\n",
              "          const docLink = document.createElement('div');\n",
              "          docLink.innerHTML = docLinkHtml;\n",
              "          element.appendChild(docLink);\n",
              "        }\n",
              "      </script>\n",
              "    </div>\n",
              "  </div>\n",
              "  "
            ]
          },
          "metadata": {},
          "execution_count": 8
        }
      ]
    },
    {
      "cell_type": "code",
      "source": [
        "x = data.loc[:,'CYL':'WGT'].values\n",
        "y = data['MPG'].values\n",
        "xtrain, xtest, ytrain, ytest = tts(x,y,test_size=0.3,shuffle=True,random_state=123)"
      ],
      "metadata": {
        "id": "PRkf8XgMuKxO"
      },
      "execution_count": 88,
      "outputs": []
    },
    {
      "cell_type": "markdown",
      "source": [
        "Tricubic Kernel\n"
      ],
      "metadata": {
        "id": "tc3e79C1kV0v"
      }
    },
    {
      "cell_type": "code",
      "source": [
        "yhat = boosted_lwr(xtrain,ytrain,xtest,Lowess_AG_MD,Lowess_AG_MD,f=0.3,iter=1,intercept=True,kernel=Tricubic)"
      ],
      "metadata": {
        "id": "e3h0HDDvuK0A"
      },
      "execution_count": 25,
      "outputs": []
    },
    {
      "cell_type": "code",
      "source": [
        "mse(ytest,yhat)"
      ],
      "metadata": {
        "id": "0mlbJkpKuK4C",
        "colab": {
          "base_uri": "https://localhost:8080/"
        },
        "outputId": "8d66b9ee-3e8d-469f-b611-7f78e4a2371a"
      },
      "execution_count": 22,
      "outputs": [
        {
          "output_type": "execute_result",
          "data": {
            "text/plain": [
              "22.625729222794533"
            ]
          },
          "metadata": {},
          "execution_count": 22
        }
      ]
    },
    {
      "cell_type": "markdown",
      "source": [
        "Epanechnikov Kernel"
      ],
      "metadata": {
        "id": "5Ya1X6aPk7qZ"
      }
    },
    {
      "cell_type": "code",
      "source": [
        "yhat = boosted_lwr(xtrain,ytrain,xtest,Lowess_AG_MD,Lowess_AG_MD,f=0.3,iter=1,intercept=True,kernel=Epanechnikov)"
      ],
      "metadata": {
        "id": "ftopI0Lik73q"
      },
      "execution_count": 26,
      "outputs": []
    },
    {
      "cell_type": "code",
      "source": [
        "mse(ytest,yhat)"
      ],
      "metadata": {
        "colab": {
          "base_uri": "https://localhost:8080/"
        },
        "id": "qNI6XCPgk7-e",
        "outputId": "8c52e02a-76e2-4a31-c635-2e7da2bad85c"
      },
      "execution_count": 27,
      "outputs": [
        {
          "output_type": "execute_result",
          "data": {
            "text/plain": [
              "22.625729222794533"
            ]
          },
          "metadata": {},
          "execution_count": 27
        }
      ]
    },
    {
      "cell_type": "markdown",
      "source": [
        "Gaussian Kernel"
      ],
      "metadata": {
        "id": "5J0pam2xk8Me"
      }
    },
    {
      "cell_type": "code",
      "source": [
        "yhat = boosted_lwr(xtrain,ytrain,xtest,Lowess_AG_MD,Lowess_AG_MD,f=0.3,iter=1,intercept=True,kernel=Gaussian)"
      ],
      "metadata": {
        "id": "gR1lyW2ok8Vo"
      },
      "execution_count": 30,
      "outputs": []
    },
    {
      "cell_type": "code",
      "source": [
        "mse(ytest,yhat)"
      ],
      "metadata": {
        "colab": {
          "base_uri": "https://localhost:8080/"
        },
        "id": "VQlllm8ok8Yr",
        "outputId": "b851d47c-f3da-4b33-ae94-85645d3acba2"
      },
      "execution_count": 31,
      "outputs": [
        {
          "output_type": "execute_result",
          "data": {
            "text/plain": [
              "22.625729222794533"
            ]
          },
          "metadata": {},
          "execution_count": 31
        }
      ]
    },
    {
      "cell_type": "markdown",
      "source": [
        "Quartic Kernel"
      ],
      "metadata": {
        "id": "W4y2oEq9k8kK"
      }
    },
    {
      "cell_type": "code",
      "source": [
        "yhat = boosted_lwr(xtrain,ytrain,xtest,Lowess_AG_MD,Lowess_AG_MD,f=0.3,iter=1,intercept=True,kernel=Quartic)"
      ],
      "metadata": {
        "id": "O3mILhF8k8vx"
      },
      "execution_count": 32,
      "outputs": []
    },
    {
      "cell_type": "code",
      "source": [
        "mse(ytest,yhat)"
      ],
      "metadata": {
        "colab": {
          "base_uri": "https://localhost:8080/"
        },
        "id": "mMDFD1KJk8ys",
        "outputId": "4e651bef-033d-443a-f543-7cf92197d61a"
      },
      "execution_count": 33,
      "outputs": [
        {
          "output_type": "execute_result",
          "data": {
            "text/plain": [
              "22.625729222794533"
            ]
          },
          "metadata": {},
          "execution_count": 33
        }
      ]
    },
    {
      "cell_type": "markdown",
      "source": [
        "### Concrete Dataset"
      ],
      "metadata": {
        "id": "CljsYB-OpqaU"
      }
    },
    {
      "cell_type": "code",
      "source": [
        "data = pd.read_csv('drive/MyDrive/Colab Notebooks/data/concrete.csv')\n",
        "data.head(5)"
      ],
      "metadata": {
        "colab": {
          "base_uri": "https://localhost:8080/",
          "height": 206
        },
        "id": "rU9TwewHpsfa",
        "outputId": "c5251765-dc25-42fe-ef6c-0d1545891100"
      },
      "execution_count": 34,
      "outputs": [
        {
          "output_type": "execute_result",
          "data": {
            "text/plain": [
              "   cement   slag  ash  water  superplastic  coarseagg  fineagg  age  strength\n",
              "0   540.0    0.0  0.0  162.0           2.5     1040.0    676.0   28     79.99\n",
              "1   540.0    0.0  0.0  162.0           2.5     1055.0    676.0   28     61.89\n",
              "2   332.5  142.5  0.0  228.0           0.0      932.0    594.0  270     40.27\n",
              "3   332.5  142.5  0.0  228.0           0.0      932.0    594.0  365     41.05\n",
              "4   198.6  132.4  0.0  192.0           0.0      978.4    825.5  360     44.30"
            ],
            "text/html": [
              "\n",
              "  <div id=\"df-8ee30959-a97c-4e49-83e3-d069e1f54a42\">\n",
              "    <div class=\"colab-df-container\">\n",
              "      <div>\n",
              "<style scoped>\n",
              "    .dataframe tbody tr th:only-of-type {\n",
              "        vertical-align: middle;\n",
              "    }\n",
              "\n",
              "    .dataframe tbody tr th {\n",
              "        vertical-align: top;\n",
              "    }\n",
              "\n",
              "    .dataframe thead th {\n",
              "        text-align: right;\n",
              "    }\n",
              "</style>\n",
              "<table border=\"1\" class=\"dataframe\">\n",
              "  <thead>\n",
              "    <tr style=\"text-align: right;\">\n",
              "      <th></th>\n",
              "      <th>cement</th>\n",
              "      <th>slag</th>\n",
              "      <th>ash</th>\n",
              "      <th>water</th>\n",
              "      <th>superplastic</th>\n",
              "      <th>coarseagg</th>\n",
              "      <th>fineagg</th>\n",
              "      <th>age</th>\n",
              "      <th>strength</th>\n",
              "    </tr>\n",
              "  </thead>\n",
              "  <tbody>\n",
              "    <tr>\n",
              "      <th>0</th>\n",
              "      <td>540.0</td>\n",
              "      <td>0.0</td>\n",
              "      <td>0.0</td>\n",
              "      <td>162.0</td>\n",
              "      <td>2.5</td>\n",
              "      <td>1040.0</td>\n",
              "      <td>676.0</td>\n",
              "      <td>28</td>\n",
              "      <td>79.99</td>\n",
              "    </tr>\n",
              "    <tr>\n",
              "      <th>1</th>\n",
              "      <td>540.0</td>\n",
              "      <td>0.0</td>\n",
              "      <td>0.0</td>\n",
              "      <td>162.0</td>\n",
              "      <td>2.5</td>\n",
              "      <td>1055.0</td>\n",
              "      <td>676.0</td>\n",
              "      <td>28</td>\n",
              "      <td>61.89</td>\n",
              "    </tr>\n",
              "    <tr>\n",
              "      <th>2</th>\n",
              "      <td>332.5</td>\n",
              "      <td>142.5</td>\n",
              "      <td>0.0</td>\n",
              "      <td>228.0</td>\n",
              "      <td>0.0</td>\n",
              "      <td>932.0</td>\n",
              "      <td>594.0</td>\n",
              "      <td>270</td>\n",
              "      <td>40.27</td>\n",
              "    </tr>\n",
              "    <tr>\n",
              "      <th>3</th>\n",
              "      <td>332.5</td>\n",
              "      <td>142.5</td>\n",
              "      <td>0.0</td>\n",
              "      <td>228.0</td>\n",
              "      <td>0.0</td>\n",
              "      <td>932.0</td>\n",
              "      <td>594.0</td>\n",
              "      <td>365</td>\n",
              "      <td>41.05</td>\n",
              "    </tr>\n",
              "    <tr>\n",
              "      <th>4</th>\n",
              "      <td>198.6</td>\n",
              "      <td>132.4</td>\n",
              "      <td>0.0</td>\n",
              "      <td>192.0</td>\n",
              "      <td>0.0</td>\n",
              "      <td>978.4</td>\n",
              "      <td>825.5</td>\n",
              "      <td>360</td>\n",
              "      <td>44.30</td>\n",
              "    </tr>\n",
              "  </tbody>\n",
              "</table>\n",
              "</div>\n",
              "      <button class=\"colab-df-convert\" onclick=\"convertToInteractive('df-8ee30959-a97c-4e49-83e3-d069e1f54a42')\"\n",
              "              title=\"Convert this dataframe to an interactive table.\"\n",
              "              style=\"display:none;\">\n",
              "        \n",
              "  <svg xmlns=\"http://www.w3.org/2000/svg\" height=\"24px\"viewBox=\"0 0 24 24\"\n",
              "       width=\"24px\">\n",
              "    <path d=\"M0 0h24v24H0V0z\" fill=\"none\"/>\n",
              "    <path d=\"M18.56 5.44l.94 2.06.94-2.06 2.06-.94-2.06-.94-.94-2.06-.94 2.06-2.06.94zm-11 1L8.5 8.5l.94-2.06 2.06-.94-2.06-.94L8.5 2.5l-.94 2.06-2.06.94zm10 10l.94 2.06.94-2.06 2.06-.94-2.06-.94-.94-2.06-.94 2.06-2.06.94z\"/><path d=\"M17.41 7.96l-1.37-1.37c-.4-.4-.92-.59-1.43-.59-.52 0-1.04.2-1.43.59L10.3 9.45l-7.72 7.72c-.78.78-.78 2.05 0 2.83L4 21.41c.39.39.9.59 1.41.59.51 0 1.02-.2 1.41-.59l7.78-7.78 2.81-2.81c.8-.78.8-2.07 0-2.86zM5.41 20L4 18.59l7.72-7.72 1.47 1.35L5.41 20z\"/>\n",
              "  </svg>\n",
              "      </button>\n",
              "      \n",
              "  <style>\n",
              "    .colab-df-container {\n",
              "      display:flex;\n",
              "      flex-wrap:wrap;\n",
              "      gap: 12px;\n",
              "    }\n",
              "\n",
              "    .colab-df-convert {\n",
              "      background-color: #E8F0FE;\n",
              "      border: none;\n",
              "      border-radius: 50%;\n",
              "      cursor: pointer;\n",
              "      display: none;\n",
              "      fill: #1967D2;\n",
              "      height: 32px;\n",
              "      padding: 0 0 0 0;\n",
              "      width: 32px;\n",
              "    }\n",
              "\n",
              "    .colab-df-convert:hover {\n",
              "      background-color: #E2EBFA;\n",
              "      box-shadow: 0px 1px 2px rgba(60, 64, 67, 0.3), 0px 1px 3px 1px rgba(60, 64, 67, 0.15);\n",
              "      fill: #174EA6;\n",
              "    }\n",
              "\n",
              "    [theme=dark] .colab-df-convert {\n",
              "      background-color: #3B4455;\n",
              "      fill: #D2E3FC;\n",
              "    }\n",
              "\n",
              "    [theme=dark] .colab-df-convert:hover {\n",
              "      background-color: #434B5C;\n",
              "      box-shadow: 0px 1px 3px 1px rgba(0, 0, 0, 0.15);\n",
              "      filter: drop-shadow(0px 1px 2px rgba(0, 0, 0, 0.3));\n",
              "      fill: #FFFFFF;\n",
              "    }\n",
              "  </style>\n",
              "\n",
              "      <script>\n",
              "        const buttonEl =\n",
              "          document.querySelector('#df-8ee30959-a97c-4e49-83e3-d069e1f54a42 button.colab-df-convert');\n",
              "        buttonEl.style.display =\n",
              "          google.colab.kernel.accessAllowed ? 'block' : 'none';\n",
              "\n",
              "        async function convertToInteractive(key) {\n",
              "          const element = document.querySelector('#df-8ee30959-a97c-4e49-83e3-d069e1f54a42');\n",
              "          const dataTable =\n",
              "            await google.colab.kernel.invokeFunction('convertToInteractive',\n",
              "                                                     [key], {});\n",
              "          if (!dataTable) return;\n",
              "\n",
              "          const docLinkHtml = 'Like what you see? Visit the ' +\n",
              "            '<a target=\"_blank\" href=https://colab.research.google.com/notebooks/data_table.ipynb>data table notebook</a>'\n",
              "            + ' to learn more about interactive tables.';\n",
              "          element.innerHTML = '';\n",
              "          dataTable['output_type'] = 'display_data';\n",
              "          await google.colab.output.renderOutput(dataTable, element);\n",
              "          const docLink = document.createElement('div');\n",
              "          docLink.innerHTML = docLinkHtml;\n",
              "          element.appendChild(docLink);\n",
              "        }\n",
              "      </script>\n",
              "    </div>\n",
              "  </div>\n",
              "  "
            ]
          },
          "metadata": {},
          "execution_count": 34
        }
      ]
    },
    {
      "cell_type": "code",
      "source": [
        "x = data.loc[:,'cement':'age'].values\n",
        "y = data['strength'].values\n",
        "xtrain, xtest, ytrain, ytest = tts(x,y,test_size=0.3,shuffle=True,random_state=123)"
      ],
      "metadata": {
        "id": "DwyyDXtjuJaq"
      },
      "execution_count": 35,
      "outputs": []
    },
    {
      "cell_type": "markdown",
      "source": [
        "Tricubic Kernel\n"
      ],
      "metadata": {
        "id": "XsEe2SnFlzK9"
      }
    },
    {
      "cell_type": "code",
      "source": [
        "yhat = boosted_lwr(xtrain,ytrain,xtest,Lowess_AG_MD,Lowess_AG_MD,f=0.015,iter=1,intercept=True,kernel=Tricubic)"
      ],
      "metadata": {
        "id": "PTYiAuF4lzLQ"
      },
      "execution_count": 50,
      "outputs": []
    },
    {
      "cell_type": "code",
      "source": [
        "mse(ytest,yhat)"
      ],
      "metadata": {
        "colab": {
          "base_uri": "https://localhost:8080/"
        },
        "id": "_RZpsjdElzLQ",
        "outputId": "bb7ee1da-fe7f-44df-a58b-75133d067799"
      },
      "execution_count": 51,
      "outputs": [
        {
          "output_type": "execute_result",
          "data": {
            "text/plain": [
              "54.01967739424208"
            ]
          },
          "metadata": {},
          "execution_count": 51
        }
      ]
    },
    {
      "cell_type": "markdown",
      "source": [
        "Epanechnikov Kernel"
      ],
      "metadata": {
        "id": "_MpPGZ0dlzLR"
      }
    },
    {
      "cell_type": "code",
      "source": [
        "yhat = boosted_lwr(xtrain,ytrain,xtest,Lowess_AG_MD,Lowess_AG_MD,f=0.015,iter=1,intercept=True,kernel=Epanechnikov)"
      ],
      "metadata": {
        "id": "OLinya0nlzLR"
      },
      "execution_count": 32,
      "outputs": []
    },
    {
      "cell_type": "code",
      "source": [
        "mse(ytest,yhat)"
      ],
      "metadata": {
        "colab": {
          "base_uri": "https://localhost:8080/"
        },
        "id": "jzGPmvzBlzLS",
        "outputId": "30466e8c-ee5d-456e-b688-ed9ce003d1ed"
      },
      "execution_count": 52,
      "outputs": [
        {
          "output_type": "execute_result",
          "data": {
            "text/plain": [
              "54.01967739424208"
            ]
          },
          "metadata": {},
          "execution_count": 52
        }
      ]
    },
    {
      "cell_type": "markdown",
      "source": [
        "Gaussian Kernel"
      ],
      "metadata": {
        "id": "HSKP_ryjlzLS"
      }
    },
    {
      "cell_type": "code",
      "source": [
        "yhat = boosted_lwr(xtrain,ytrain,xtest,Lowess_AG_MD,Lowess_AG_MD,f=0.015,iter=1,intercept=True,kernel=Gaussian)"
      ],
      "metadata": {
        "id": "w7IkCjbdlzLT"
      },
      "execution_count": 34,
      "outputs": []
    },
    {
      "cell_type": "code",
      "source": [
        "mse(ytest,yhat)"
      ],
      "metadata": {
        "colab": {
          "base_uri": "https://localhost:8080/"
        },
        "id": "BUnTUpxDlzLT",
        "outputId": "c2c49165-2d1a-46b1-8fee-f2753d12cd1f"
      },
      "execution_count": 53,
      "outputs": [
        {
          "output_type": "execute_result",
          "data": {
            "text/plain": [
              "54.01967739424208"
            ]
          },
          "metadata": {},
          "execution_count": 53
        }
      ]
    },
    {
      "cell_type": "markdown",
      "source": [
        "Quartic Kernel"
      ],
      "metadata": {
        "id": "N_ReVx3blzLU"
      }
    },
    {
      "cell_type": "code",
      "source": [
        "yhat = boosted_lwr(xtrain,ytrain,xtest,Lowess_AG_MD,Lowess_AG_MD,f=0.015,iter=1,intercept=True,kernel=Quartic)"
      ],
      "metadata": {
        "id": "5zfTmM3KlzLU"
      },
      "execution_count": 36,
      "outputs": []
    },
    {
      "cell_type": "code",
      "source": [
        "mse(ytest,yhat)"
      ],
      "metadata": {
        "colab": {
          "base_uri": "https://localhost:8080/"
        },
        "id": "XBcrDqpSlzLU",
        "outputId": "7f248291-6d53-4ba3-a466-be4a2f6da706"
      },
      "execution_count": 54,
      "outputs": [
        {
          "output_type": "execute_result",
          "data": {
            "text/plain": [
              "54.01967739424208"
            ]
          },
          "metadata": {},
          "execution_count": 54
        }
      ]
    },
    {
      "cell_type": "markdown",
      "source": [
        "### Housing Dataset"
      ],
      "metadata": {
        "id": "1NzWmLJzps0w"
      }
    },
    {
      "cell_type": "code",
      "source": [
        "data = pd.read_csv('drive/MyDrive/Colab Notebooks/data/housing.csv')\n",
        "data.head(5)"
      ],
      "metadata": {
        "id": "8R0yU3_ApuaF",
        "colab": {
          "base_uri": "https://localhost:8080/",
          "height": 206
        },
        "outputId": "1359ee4a-2053-4b26-fdbf-99ba01365f45"
      },
      "execution_count": 55,
      "outputs": [
        {
          "output_type": "execute_result",
          "data": {
            "text/plain": [
              "         town  tract  longitude   latitude    crime  residential  industrial  \\\n",
              "0      Nahant   2011 -70.955002  42.255001  0.00632         18.0        2.31   \n",
              "1  Swampscott   2021 -70.949997  42.287498  0.02731          0.0        7.07   \n",
              "2  Swampscott   2022 -70.935997  42.283001  0.02729          0.0        7.07   \n",
              "3  Marblehead   2031 -70.928001  42.292999  0.03237          0.0        2.18   \n",
              "4  Marblehead   2032 -70.921997  42.298000  0.06905          0.0        2.18   \n",
              "\n",
              "  river    nox  rooms      older  distance  highway  tax    ptratio  lstat  \\\n",
              "0    no  0.538  6.575  65.199997    4.0900        1  296  15.300000   4.98   \n",
              "1    no  0.469  6.421  78.900002    4.9671        2  242  17.799999   9.14   \n",
              "2    no  0.469  7.185  61.099998    4.9671        2  242  17.799999   4.03   \n",
              "3    no  0.458  6.998  45.799999    6.0622        3  222  18.700001   2.94   \n",
              "4    no  0.458  7.147  54.200001    6.0622        3  222  18.700001   5.33   \n",
              "\n",
              "       cmedv  \n",
              "0  24.000000  \n",
              "1  21.600000  \n",
              "2  34.700001  \n",
              "3  33.400002  \n",
              "4  36.200001  "
            ],
            "text/html": [
              "\n",
              "  <div id=\"df-c57deb67-61ef-455f-9781-b6ecef5eca0d\">\n",
              "    <div class=\"colab-df-container\">\n",
              "      <div>\n",
              "<style scoped>\n",
              "    .dataframe tbody tr th:only-of-type {\n",
              "        vertical-align: middle;\n",
              "    }\n",
              "\n",
              "    .dataframe tbody tr th {\n",
              "        vertical-align: top;\n",
              "    }\n",
              "\n",
              "    .dataframe thead th {\n",
              "        text-align: right;\n",
              "    }\n",
              "</style>\n",
              "<table border=\"1\" class=\"dataframe\">\n",
              "  <thead>\n",
              "    <tr style=\"text-align: right;\">\n",
              "      <th></th>\n",
              "      <th>town</th>\n",
              "      <th>tract</th>\n",
              "      <th>longitude</th>\n",
              "      <th>latitude</th>\n",
              "      <th>crime</th>\n",
              "      <th>residential</th>\n",
              "      <th>industrial</th>\n",
              "      <th>river</th>\n",
              "      <th>nox</th>\n",
              "      <th>rooms</th>\n",
              "      <th>older</th>\n",
              "      <th>distance</th>\n",
              "      <th>highway</th>\n",
              "      <th>tax</th>\n",
              "      <th>ptratio</th>\n",
              "      <th>lstat</th>\n",
              "      <th>cmedv</th>\n",
              "    </tr>\n",
              "  </thead>\n",
              "  <tbody>\n",
              "    <tr>\n",
              "      <th>0</th>\n",
              "      <td>Nahant</td>\n",
              "      <td>2011</td>\n",
              "      <td>-70.955002</td>\n",
              "      <td>42.255001</td>\n",
              "      <td>0.00632</td>\n",
              "      <td>18.0</td>\n",
              "      <td>2.31</td>\n",
              "      <td>no</td>\n",
              "      <td>0.538</td>\n",
              "      <td>6.575</td>\n",
              "      <td>65.199997</td>\n",
              "      <td>4.0900</td>\n",
              "      <td>1</td>\n",
              "      <td>296</td>\n",
              "      <td>15.300000</td>\n",
              "      <td>4.98</td>\n",
              "      <td>24.000000</td>\n",
              "    </tr>\n",
              "    <tr>\n",
              "      <th>1</th>\n",
              "      <td>Swampscott</td>\n",
              "      <td>2021</td>\n",
              "      <td>-70.949997</td>\n",
              "      <td>42.287498</td>\n",
              "      <td>0.02731</td>\n",
              "      <td>0.0</td>\n",
              "      <td>7.07</td>\n",
              "      <td>no</td>\n",
              "      <td>0.469</td>\n",
              "      <td>6.421</td>\n",
              "      <td>78.900002</td>\n",
              "      <td>4.9671</td>\n",
              "      <td>2</td>\n",
              "      <td>242</td>\n",
              "      <td>17.799999</td>\n",
              "      <td>9.14</td>\n",
              "      <td>21.600000</td>\n",
              "    </tr>\n",
              "    <tr>\n",
              "      <th>2</th>\n",
              "      <td>Swampscott</td>\n",
              "      <td>2022</td>\n",
              "      <td>-70.935997</td>\n",
              "      <td>42.283001</td>\n",
              "      <td>0.02729</td>\n",
              "      <td>0.0</td>\n",
              "      <td>7.07</td>\n",
              "      <td>no</td>\n",
              "      <td>0.469</td>\n",
              "      <td>7.185</td>\n",
              "      <td>61.099998</td>\n",
              "      <td>4.9671</td>\n",
              "      <td>2</td>\n",
              "      <td>242</td>\n",
              "      <td>17.799999</td>\n",
              "      <td>4.03</td>\n",
              "      <td>34.700001</td>\n",
              "    </tr>\n",
              "    <tr>\n",
              "      <th>3</th>\n",
              "      <td>Marblehead</td>\n",
              "      <td>2031</td>\n",
              "      <td>-70.928001</td>\n",
              "      <td>42.292999</td>\n",
              "      <td>0.03237</td>\n",
              "      <td>0.0</td>\n",
              "      <td>2.18</td>\n",
              "      <td>no</td>\n",
              "      <td>0.458</td>\n",
              "      <td>6.998</td>\n",
              "      <td>45.799999</td>\n",
              "      <td>6.0622</td>\n",
              "      <td>3</td>\n",
              "      <td>222</td>\n",
              "      <td>18.700001</td>\n",
              "      <td>2.94</td>\n",
              "      <td>33.400002</td>\n",
              "    </tr>\n",
              "    <tr>\n",
              "      <th>4</th>\n",
              "      <td>Marblehead</td>\n",
              "      <td>2032</td>\n",
              "      <td>-70.921997</td>\n",
              "      <td>42.298000</td>\n",
              "      <td>0.06905</td>\n",
              "      <td>0.0</td>\n",
              "      <td>2.18</td>\n",
              "      <td>no</td>\n",
              "      <td>0.458</td>\n",
              "      <td>7.147</td>\n",
              "      <td>54.200001</td>\n",
              "      <td>6.0622</td>\n",
              "      <td>3</td>\n",
              "      <td>222</td>\n",
              "      <td>18.700001</td>\n",
              "      <td>5.33</td>\n",
              "      <td>36.200001</td>\n",
              "    </tr>\n",
              "  </tbody>\n",
              "</table>\n",
              "</div>\n",
              "      <button class=\"colab-df-convert\" onclick=\"convertToInteractive('df-c57deb67-61ef-455f-9781-b6ecef5eca0d')\"\n",
              "              title=\"Convert this dataframe to an interactive table.\"\n",
              "              style=\"display:none;\">\n",
              "        \n",
              "  <svg xmlns=\"http://www.w3.org/2000/svg\" height=\"24px\"viewBox=\"0 0 24 24\"\n",
              "       width=\"24px\">\n",
              "    <path d=\"M0 0h24v24H0V0z\" fill=\"none\"/>\n",
              "    <path d=\"M18.56 5.44l.94 2.06.94-2.06 2.06-.94-2.06-.94-.94-2.06-.94 2.06-2.06.94zm-11 1L8.5 8.5l.94-2.06 2.06-.94-2.06-.94L8.5 2.5l-.94 2.06-2.06.94zm10 10l.94 2.06.94-2.06 2.06-.94-2.06-.94-.94-2.06-.94 2.06-2.06.94z\"/><path d=\"M17.41 7.96l-1.37-1.37c-.4-.4-.92-.59-1.43-.59-.52 0-1.04.2-1.43.59L10.3 9.45l-7.72 7.72c-.78.78-.78 2.05 0 2.83L4 21.41c.39.39.9.59 1.41.59.51 0 1.02-.2 1.41-.59l7.78-7.78 2.81-2.81c.8-.78.8-2.07 0-2.86zM5.41 20L4 18.59l7.72-7.72 1.47 1.35L5.41 20z\"/>\n",
              "  </svg>\n",
              "      </button>\n",
              "      \n",
              "  <style>\n",
              "    .colab-df-container {\n",
              "      display:flex;\n",
              "      flex-wrap:wrap;\n",
              "      gap: 12px;\n",
              "    }\n",
              "\n",
              "    .colab-df-convert {\n",
              "      background-color: #E8F0FE;\n",
              "      border: none;\n",
              "      border-radius: 50%;\n",
              "      cursor: pointer;\n",
              "      display: none;\n",
              "      fill: #1967D2;\n",
              "      height: 32px;\n",
              "      padding: 0 0 0 0;\n",
              "      width: 32px;\n",
              "    }\n",
              "\n",
              "    .colab-df-convert:hover {\n",
              "      background-color: #E2EBFA;\n",
              "      box-shadow: 0px 1px 2px rgba(60, 64, 67, 0.3), 0px 1px 3px 1px rgba(60, 64, 67, 0.15);\n",
              "      fill: #174EA6;\n",
              "    }\n",
              "\n",
              "    [theme=dark] .colab-df-convert {\n",
              "      background-color: #3B4455;\n",
              "      fill: #D2E3FC;\n",
              "    }\n",
              "\n",
              "    [theme=dark] .colab-df-convert:hover {\n",
              "      background-color: #434B5C;\n",
              "      box-shadow: 0px 1px 3px 1px rgba(0, 0, 0, 0.15);\n",
              "      filter: drop-shadow(0px 1px 2px rgba(0, 0, 0, 0.3));\n",
              "      fill: #FFFFFF;\n",
              "    }\n",
              "  </style>\n",
              "\n",
              "      <script>\n",
              "        const buttonEl =\n",
              "          document.querySelector('#df-c57deb67-61ef-455f-9781-b6ecef5eca0d button.colab-df-convert');\n",
              "        buttonEl.style.display =\n",
              "          google.colab.kernel.accessAllowed ? 'block' : 'none';\n",
              "\n",
              "        async function convertToInteractive(key) {\n",
              "          const element = document.querySelector('#df-c57deb67-61ef-455f-9781-b6ecef5eca0d');\n",
              "          const dataTable =\n",
              "            await google.colab.kernel.invokeFunction('convertToInteractive',\n",
              "                                                     [key], {});\n",
              "          if (!dataTable) return;\n",
              "\n",
              "          const docLinkHtml = 'Like what you see? Visit the ' +\n",
              "            '<a target=\"_blank\" href=https://colab.research.google.com/notebooks/data_table.ipynb>data table notebook</a>'\n",
              "            + ' to learn more about interactive tables.';\n",
              "          element.innerHTML = '';\n",
              "          dataTable['output_type'] = 'display_data';\n",
              "          await google.colab.output.renderOutput(dataTable, element);\n",
              "          const docLink = document.createElement('div');\n",
              "          docLink.innerHTML = docLinkHtml;\n",
              "          element.appendChild(docLink);\n",
              "        }\n",
              "      </script>\n",
              "    </div>\n",
              "  </div>\n",
              "  "
            ]
          },
          "metadata": {},
          "execution_count": 55
        }
      ]
    },
    {
      "cell_type": "code",
      "source": [
        "features = ['crime','rooms','residential','industrial','nox','older','distance','highway','tax','ptratio','lstat']\n",
        "x = np.array(data[features])\n",
        "y = data['cmedv'].values\n",
        "xtrain, xtest, ytrain, ytest = tts(x,y,test_size=0.3,shuffle=True,random_state=123)"
      ],
      "metadata": {
        "id": "uqdXs_Z8t5Si"
      },
      "execution_count": 121,
      "outputs": []
    },
    {
      "cell_type": "markdown",
      "source": [
        "Tricubic Kernel\n"
      ],
      "metadata": {
        "id": "AFnjHFvul5Sk"
      }
    },
    {
      "cell_type": "code",
      "source": [
        "yhat = boosted_lwr(xtrain,ytrain,xtest,Lowess_AG_MD,Lowess_AG_MD,f=0.3,iter=1,intercept=True,kernel=Tricubic)"
      ],
      "metadata": {
        "id": "C_zdl1Psl5Sm"
      },
      "execution_count": 85,
      "outputs": []
    },
    {
      "cell_type": "code",
      "source": [
        "mse(ytest,yhat)"
      ],
      "metadata": {
        "colab": {
          "base_uri": "https://localhost:8080/"
        },
        "id": "n0Q6ke1_l5So",
        "outputId": "e167091b-d617-4272-edbe-e4acda8e6ea4"
      },
      "execution_count": 126,
      "outputs": [
        {
          "output_type": "execute_result",
          "data": {
            "text/plain": [
              "29.054248167685376"
            ]
          },
          "metadata": {},
          "execution_count": 126
        }
      ]
    },
    {
      "cell_type": "markdown",
      "source": [
        "Epanechnikov Kernel"
      ],
      "metadata": {
        "id": "yB0GVcv3l5Sp"
      }
    },
    {
      "cell_type": "code",
      "source": [
        "yhat = boosted_lwr(xtrain,ytrain,xtest,Lowess_AG_MD,Lowess_AG_MD,f=0.1,iter=1,intercept=True,kernel=Epanechnikov)"
      ],
      "metadata": {
        "id": "jRf31o8Hl5Sr"
      },
      "execution_count": 74,
      "outputs": []
    },
    {
      "cell_type": "code",
      "source": [
        "mse(ytest,yhat)"
      ],
      "metadata": {
        "colab": {
          "base_uri": "https://localhost:8080/"
        },
        "id": "Kcjzj2e8l5Ss",
        "outputId": "c57ed350-e4e8-4b17-b99a-fa3b224bce4b"
      },
      "execution_count": 75,
      "outputs": [
        {
          "output_type": "execute_result",
          "data": {
            "text/plain": [
              "29.054248167685376"
            ]
          },
          "metadata": {},
          "execution_count": 75
        }
      ]
    },
    {
      "cell_type": "markdown",
      "source": [
        "Gaussian Kernel"
      ],
      "metadata": {
        "id": "YUNcA9oZl5Su"
      }
    },
    {
      "cell_type": "code",
      "source": [
        "yhat = boosted_lwr(xtrain,ytrain,xtest,Lowess_AG_MD,Lowess_AG_MD,f=0.1,iter=1,intercept=True,kernel=Gaussian)"
      ],
      "metadata": {
        "id": "uxo-1AzQl5Sv"
      },
      "execution_count": 124,
      "outputs": []
    },
    {
      "cell_type": "code",
      "source": [
        "mse(ytest,yhat)"
      ],
      "metadata": {
        "colab": {
          "base_uri": "https://localhost:8080/"
        },
        "id": "eVb8c12cl5Sw",
        "outputId": "d0074b39-be2d-4389-d81e-b2a1644fd08e"
      },
      "execution_count": 125,
      "outputs": [
        {
          "output_type": "execute_result",
          "data": {
            "text/plain": [
              "29.054248167685376"
            ]
          },
          "metadata": {},
          "execution_count": 125
        }
      ]
    },
    {
      "cell_type": "markdown",
      "source": [
        "Quartic Kernel"
      ],
      "metadata": {
        "id": "43Cte7rLl5Sx"
      }
    },
    {
      "cell_type": "code",
      "source": [
        "yhat = boosted_lwr(xtrain,ytrain,xtest,Lowess_AG_MD,Lowess_AG_MD,f=0.1,iter=1,intercept=True,kernel=Quartic)"
      ],
      "metadata": {
        "id": "BIUqyscsl5Sz"
      },
      "execution_count": 78,
      "outputs": []
    },
    {
      "cell_type": "code",
      "source": [
        "mse(ytest,yhat)"
      ],
      "metadata": {
        "colab": {
          "base_uri": "https://localhost:8080/"
        },
        "id": "1OkLluUQl5S1",
        "outputId": "636e61f4-dd60-45b6-c377-13fe67cad594"
      },
      "execution_count": 79,
      "outputs": [
        {
          "output_type": "execute_result",
          "data": {
            "text/plain": [
              "29.054248167685376"
            ]
          },
          "metadata": {},
          "execution_count": 79
        }
      ]
    },
    {
      "cell_type": "markdown",
      "source": [
        "As we can see, we got the same mse for each of the kernels for the three datasets that we used. Because of this, we will select Tricubic to proceed with."
      ],
      "metadata": {
        "id": "UkU-uvkuuBUw"
      }
    },
    {
      "cell_type": "markdown",
      "source": [
        "## K-Fold Cross-Validation\n",
        "### Random Forest Comparison"
      ],
      "metadata": {
        "id": "fF7pdLfNpc8X"
      }
    },
    {
      "cell_type": "code",
      "source": [
        "# Cars\n",
        "data = pd.read_csv('drive/MyDrive/Colab Notebooks/data/cars.csv')\n",
        "x = data.loc[:,'CYL':'WGT'].values\n",
        "y = data['MPG'].values\n",
        "\n",
        "mse_lwr = []\n",
        "mse_lwr_ag = []\n",
        "mse_rf = []\n",
        "mse_lwr_b = []\n",
        "mse_lwr_ag_b = []\n",
        "mse_rf_b = []\n",
        "kf = KFold(n_splits=10,shuffle=True,random_state=1234)\n",
        "model_lw = Lowess(kernel=Gaussian,tau=0.18)\n",
        "model_lw_ag = Lowess_AG_MD(f=1/3,iter=1,intercept=True,kernel=Tricubic)\n",
        "model_rf = RandomForestRegressor(n_estimators=200,max_depth=3)\n",
        "\n",
        "for idxtrain, idxtest in kf.split(x):\n",
        "  xtrain = x[idxtrain]\n",
        "  ytrain = y[idxtrain]\n",
        "  ytest = y[idxtest]\n",
        "  xtest = x[idxtest]\n",
        "  xtrain = scale.fit_transform(xtrain)\n",
        "  xtest = scale.transform(xtest)\n",
        "\n",
        "  # Lowess\n",
        "  model_lw.fit(xtrain,ytrain)\n",
        "  yhat_lw = model_lw.predict(xtest)\n",
        "\n",
        "  yhat_lw_b = boosted_lwr(xtrain,ytrain,xtest,Lowess,Lowess,kernel=Gaussian,tau=0.18)\n",
        "\n",
        "  # Lowess Gramfort\n",
        "  model_lw_ag.fit(xtrain,ytrain)\n",
        "  yhat_lw_ag = model_lw_ag.predict(xtest)\n",
        "  \n",
        "  yhat_lw_ag_b = boosted_lwr(xtrain,ytrain,xtest,Lowess_AG_MD,Lowess_AG_MD,f=1/3,iter=1,intercept=True,kernel=Tricubic)\n",
        "  \n",
        "  # Random Forest\n",
        "  model_rf.fit(xtrain,ytrain)\n",
        "  yhat_rf = model_rf.predict(xtest)\n",
        "\n",
        "  yhat_rf_b = boosted_lwr(xtrain,ytrain,xtest,RandomForestRegressor,RandomForestRegressor,n_estimators=200,max_depth=3)\n",
        "\n",
        "  mse_lwr.append(mse(ytest,yhat_lw))\n",
        "  mse_lwr_b.append(mse(ytest,yhat_lw_b))\n",
        "  mse_lwr_ag.append(mse(ytest,yhat_lw_ag))\n",
        "  mse_lwr_ag_b.append(mse(ytest,yhat_lw_ag_b))\n",
        "  mse_rf.append(mse(ytest,yhat_rf))\n",
        "  mse_rf_b.append(mse(ytest,yhat_rf_b))\n",
        "print('The Cross-validated Mean Squared Error for Locally Weighted Regression is : '+str(np.mean(mse_lwr)))\n",
        "print('The Cross-validated Mean Squared Error for Boosted Locally Weighted Regression is : '+str(np.mean(mse_lwr_b)))\n",
        "print(\"The Cross-validated Mean Squared Error for Gramfort's Locally Weighted Regression is : \"+str(np.mean(mse_lwr_ag)))\n",
        "print(\"The Cross-validated Mean Squared Error for Boosted Gramfort's Locally Weighted Regression is : \"+str(np.mean(mse_lwr_ag_b)))\n",
        "print('The Cross-validated Mean Squared Error for Random Forest is : '+str(np.mean(mse_rf)))\n",
        "print('The Cross-validated Mean Squared Error for Boosted Random Forest is : '+str(np.mean(mse_rf_b)))"
      ],
      "metadata": {
        "colab": {
          "base_uri": "https://localhost:8080/"
        },
        "id": "ls2h63LJAYe4",
        "outputId": "491d5f2b-53f6-4ea6-8a5c-cb09af079adb"
      },
      "execution_count": 98,
      "outputs": [
        {
          "output_type": "stream",
          "name": "stdout",
          "text": [
            "The Cross-validated Mean Squared Error for Locally Weighted Regression is : 17.133192203301153\n",
            "The Cross-validated Mean Squared Error for Boosted Locally Weighted Regression is : 17.384268463244858\n",
            "The Cross-validated Mean Squared Error for Gramfort's Locally Weighted Regression is : 23.53685564215548\n",
            "The Cross-validated Mean Squared Error for Boosted Gramfort's Locally Weighted Regression is : 23.53357188789293\n",
            "The Cross-validated Mean Squared Error for Random Forest is : 16.621845168912557\n",
            "The Cross-validated Mean Squared Error for Boosted Random Forest is : 16.20216483653494\n"
          ]
        }
      ]
    },
    {
      "cell_type": "code",
      "source": [
        "# Concrete\n",
        "data = pd.read_csv('drive/MyDrive/Colab Notebooks/data/concrete.csv')\n",
        "x = data.loc[:,'cement':'age'].values\n",
        "y = data['strength'].values\n",
        "\n",
        "mse_lwr = []\n",
        "mse_lwr_ag = []\n",
        "mse_rf = []\n",
        "mse_lwr_b = []\n",
        "mse_lwr_ag_b = []\n",
        "mse_rf_b = []\n",
        "kf = KFold(n_splits=10,shuffle=True,random_state=1234)\n",
        "model_lw = Lowess(kernel=Gaussian,tau=0.04)\n",
        "model_lw_ag = Lowess_AG_MD(f=0.015,iter=1,intercept=True,kernel=Tricubic)\n",
        "model_rf = RandomForestRegressor(n_estimators=200,max_depth=3)\n",
        "\n",
        "for idxtrain, idxtest in kf.split(x):\n",
        "  xtrain = x[idxtrain]\n",
        "  ytrain = y[idxtrain]\n",
        "  ytest = y[idxtest]\n",
        "  xtest = x[idxtest]\n",
        "  xtrain = scale.fit_transform(xtrain)\n",
        "  xtest = scale.transform(xtest)\n",
        "\n",
        "  # Lowess\n",
        "  model_lw.fit(xtrain,ytrain)\n",
        "  yhat_lw = model_lw.predict(xtest)\n",
        "\n",
        "  yhat_lw_b = boosted_lwr(xtrain,ytrain,xtest,Lowess,Lowess,kernel=Gaussian,tau=0.04)\n",
        "\n",
        "  # Lowess Gramfort\n",
        "  model_lw_ag.fit(xtrain,ytrain)\n",
        "  yhat_lw_ag = model_lw_ag.predict(xtest)\n",
        "  \n",
        "  yhat_lw_ag_b = boosted_lwr(xtrain,ytrain,xtest,Lowess_AG_MD,Lowess_AG_MD,f=0.015,iter=1,intercept=True,kernel=Tricubic)\n",
        "  \n",
        "  # Random Forest\n",
        "  model_rf.fit(xtrain,ytrain)\n",
        "  yhat_rf = model_rf.predict(xtest)\n",
        "\n",
        "  yhat_rf_b = boosted_lwr(xtrain,ytrain,xtest,RandomForestRegressor,RandomForestRegressor,n_estimators=200,max_depth=3)\n",
        "\n",
        "  mse_lwr.append(mse(ytest,yhat_lw))\n",
        "  mse_lwr_b.append(mse(ytest,yhat_lw_b))\n",
        "  mse_lwr_ag.append(mse(ytest,yhat_lw_ag))\n",
        "  mse_lwr_ag_b.append(mse(ytest,yhat_lw_ag_b))\n",
        "  mse_rf.append(mse(ytest,yhat_rf))\n",
        "  mse_rf_b.append(mse(ytest,yhat_rf_b))\n",
        "print('The Cross-validated Mean Squared Error for Locally Weighted Regression is : '+str(np.mean(mse_lwr)))\n",
        "print('The Cross-validated Mean Squared Error for Boosted Locally Weighted Regression is : '+str(np.mean(mse_lwr_b)))\n",
        "print(\"The Cross-validated Mean Squared Error for Gramfort's Locally Weighted Regression is : \"+str(np.mean(mse_lwr_ag)))\n",
        "print(\"The Cross-validated Mean Squared Error for Boosted Gramfort's Locally Weighted Regression is : \"+str(np.mean(mse_lwr_ag_b)))\n",
        "print('The Cross-validated Mean Squared Error for Random Forest is : '+str(np.mean(mse_rf)))\n",
        "print('The Cross-validated Mean Squared Error for Boosted Random Forest is : '+str(np.mean(mse_rf_b)))"
      ],
      "metadata": {
        "id": "s-wMgdTvphG3",
        "colab": {
          "base_uri": "https://localhost:8080/"
        },
        "outputId": "ced95186-385f-4953-f385-203df873e11a"
      },
      "execution_count": 114,
      "outputs": [
        {
          "output_type": "stream",
          "name": "stdout",
          "text": [
            "The Cross-validated Mean Squared Error for Locally Weighted Regression is : 800.4766226078477\n",
            "The Cross-validated Mean Squared Error for Boosted Locally Weighted Regression is : 800.4154255037517\n",
            "The Cross-validated Mean Squared Error for Gramfort's Locally Weighted Regression is : 44.72821371004521\n",
            "The Cross-validated Mean Squared Error for Boosted Gramfort's Locally Weighted Regression is : 44.88046414089581\n",
            "The Cross-validated Mean Squared Error for Random Forest is : 86.64659092779175\n",
            "The Cross-validated Mean Squared Error for Boosted Random Forest is : 55.39960750145254\n"
          ]
        }
      ]
    },
    {
      "cell_type": "code",
      "source": [
        "data = pd.read_csv('drive/MyDrive/Colab Notebooks/data/housing.csv')\n",
        "features = ['crime','rooms','residential','industrial','nox','older','distance','highway','tax','ptratio','lstat']\n",
        "x = np.array(data[features])\n",
        "y = data['cmedv'].values\n",
        "\n",
        "mse_lwr = []\n",
        "mse_lwr_ag = []\n",
        "mse_rf = []\n",
        "mse_lwr_b = []\n",
        "mse_lwr_ag_b = []\n",
        "mse_rf_b = []\n",
        "kf = KFold(n_splits=10,shuffle=True,random_state=1234)\n",
        "model_lw = Lowess(kernel=Gaussian,tau=0.17)\n",
        "model_lw_ag = Lowess_AG_MD(f=0.1,iter=1,intercept=True,kernel=Tricubic)\n",
        "model_rf = RandomForestRegressor(n_estimators=200,max_depth=3)\n",
        "\n",
        "for idxtrain, idxtest in kf.split(x):\n",
        "  xtrain = x[idxtrain]\n",
        "  ytrain = y[idxtrain]\n",
        "  ytest = y[idxtest]\n",
        "  xtest = x[idxtest]\n",
        "  xtrain = scale.fit_transform(xtrain)\n",
        "  xtest = scale.transform(xtest)\n",
        "\n",
        "  # Lowess\n",
        "  model_lw.fit(xtrain,ytrain)\n",
        "  yhat_lw = model_lw.predict(xtest)\n",
        "\n",
        "  yhat_lw_b = boosted_lwr(xtrain,ytrain,xtest,Lowess,Lowess,kernel=Gaussian,tau=0.17)\n",
        "\n",
        "  # Lowess Gramfort\n",
        "  model_lw_ag.fit(xtrain,ytrain)\n",
        "  yhat_lw_ag = model_lw_ag.predict(xtest)\n",
        "  \n",
        "  yhat_lw_ag_b = boosted_lwr(xtrain,ytrain,xtest,Lowess_AG_MD,Lowess_AG_MD,f=0.1,iter=1,intercept=True,kernel=Tricubic)\n",
        "  \n",
        "  # Random Forest\n",
        "  model_rf.fit(xtrain,ytrain)\n",
        "  yhat_rf = model_rf.predict(xtest)\n",
        "\n",
        "  yhat_rf_b = boosted_lwr(xtrain,ytrain,xtest,RandomForestRegressor,RandomForestRegressor,n_estimators=200,max_depth=3)\n",
        "\n",
        "  mse_lwr.append(mse(ytest,yhat_lw))\n",
        "  mse_lwr_b.append(mse(ytest,yhat_lw_b))\n",
        "  mse_lwr_ag.append(mse(ytest,yhat_lw_ag))\n",
        "  mse_lwr_ag_b.append(mse(ytest,yhat_lw_ag_b))\n",
        "  mse_rf.append(mse(ytest,yhat_rf))\n",
        "  mse_rf_b.append(mse(ytest,yhat_rf_b))\n",
        "print('The Cross-validated Mean Squared Error for Locally Weighted Regression is : '+str(np.mean(mse_lwr)))\n",
        "print('The Cross-validated Mean Squared Error for Boosted Locally Weighted Regression is : '+str(np.mean(mse_lwr_b)))\n",
        "print(\"The Cross-validated Mean Squared Error for Gramfort's Locally Weighted Regression is : \"+str(np.mean(mse_lwr_ag)))\n",
        "print(\"The Cross-validated Mean Squared Error for Boosted Gramfort's Locally Weighted Regression is : \"+str(np.mean(mse_lwr_ag_b)))\n",
        "print('The Cross-validated Mean Squared Error for Random Forest is : '+str(np.mean(mse_rf)))\n",
        "print('The Cross-validated Mean Squared Error for Boosted Random Forest is : '+str(np.mean(mse_rf_b)))"
      ],
      "metadata": {
        "colab": {
          "base_uri": "https://localhost:8080/"
        },
        "id": "FpAQaoJsBGNX",
        "outputId": "37eff791-8cbe-42f0-b253-d336121a9512"
      },
      "execution_count": 130,
      "outputs": [
        {
          "output_type": "stream",
          "name": "stdout",
          "text": [
            "The Cross-validated Mean Squared Error for Locally Weighted Regression is : 121.22597090893612\n",
            "The Cross-validated Mean Squared Error for Boosted Locally Weighted Regression is : 121.92895063506433\n",
            "The Cross-validated Mean Squared Error for Gramfort's Locally Weighted Regression is : 16.12087329403363\n",
            "The Cross-validated Mean Squared Error for Boosted Gramfort's Locally Weighted Regression is : 16.12087329403365\n",
            "The Cross-validated Mean Squared Error for Random Forest is : 17.665804853731764\n",
            "The Cross-validated Mean Squared Error for Boosted Random Forest is : 13.852908916916466\n"
          ]
        }
      ]
    },
    {
      "cell_type": "code",
      "source": [],
      "metadata": {
        "id": "RW79MCEQZBIm"
      },
      "execution_count": null,
      "outputs": []
    }
  ]
}